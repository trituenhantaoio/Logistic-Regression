{
 "cells": [
  {
   "cell_type": "markdown",
   "metadata": {},
   "source": [
    "# Ví dụ về Hồi quy Logistic\n",
    "\n",
    "Trong bài này, chúng ta sẽ sẽ thử nghiệm việc cài đặt mô hình `Hồi quy Logistic` thông qua ví dụ `chẩn đoán ung thư`:\n",
    "- Dữ liệu được sử dụng là dataset có sẵn từ thư viện sklearn\n",
    "- Dữ liệu trên là dữ liệu đã biết, ta dùng để  huấn luyện ra mô hình hồi quy logistic xấp xỉ tốt nhất với chúng\n",
    "- Sử dụng mô hình để  chẩn đoán với dữ liệu mới"
   ]
  },
  {
   "cell_type": "markdown",
   "metadata": {},
   "source": [
    "### Đầu tiên ta khai báo các thư viện sẽ sử dụng"
   ]
  },
  {
   "cell_type": "code",
   "execution_count": 1,
   "metadata": {},
   "outputs": [],
   "source": [
    "import numpy as np #numpy là thư viện giúp thao tác linh hoạt hơn trên dữ liệu\n",
    "import matplotlib.pyplot as plt #pyplot giúp mô tả dữ liệu thông qua các biểu đồ trực quan\n",
    "\n",
    "#Trong bài này, chúng ta sẽ sử dụng dataset và mô hình sẵn của sklearn\n",
    "from sklearn.linear_model import LogisticRegression\n",
    "from sklearn import datasets\n",
    "from sklearn.metrics import accuracy_score #hàm để đo độ chính xác của mô hình"
   ]
  },
  {
   "cell_type": "markdown",
   "metadata": {},
   "source": [
    "### Nạp dữ liệu và thể hiện lên biểu đồ\n",
    "Trong bộ dữ liệu, 10 chỉ số được sử dụng chẩn đoán ung thư bao gồm các chỉ số liên quan đến nhân tế bào (bán kính, kết cấu, chu vi, diện tích, độ mịn, độ nén, độ lõm, số điểm lõm, mức độ đối xứng ,kích thước fractal). Với mục đích thể hiện tốt nhất hiệu quả của phương pháp và để dễ dàng biểu diễn lên biểu đồ , chúng ta chỉ sử dụng hai chỉ số là bán kính và độ lõm của nhân tế bào."
   ]
  },
  {
   "cell_type": "code",
   "execution_count": 2,
   "metadata": {},
   "outputs": [
    {
     "name": "stdout",
     "output_type": "stream",
     "text": [
      "Số ác tính:  212 . Số lành tính:  357\n"
     ]
    },
    {
     "data": {
      "text/plain": [
       "<matplotlib.collections.PathCollection at 0x7fe4c184b550>"
      ]
     },
     "execution_count": 2,
     "metadata": {},
     "output_type": "execute_result"
    },
    {
     "data": {
      "image/png": "[encoded data removed]",
      "text/plain": [
       "<Figure size 432x288 with 1 Axes>"
      ]
     },
     "metadata": {
      "needs_background": "light"
     },
     "output_type": "display_data"
    }
   ],
   "source": [
    "samples = datasets.load_breast_cancer()# chúng ta nạp dữ liệu để bắt đầu thao tác\n",
    "X = samples.data[:,0:6:5] #Chúng ta giữ lại 2 chỉ số là bán kính và độ lõm của nhân tế bào\n",
    "y = samples.target #Kết quả chẩn đoán bộ chỉ số  cho kết quả Lành tính hay không\n",
    "\n",
    "M_class=np.array([X[i] for i in range(len(y)) if y[i]==0])#Dữ liệu của nhóm Ác tính (malignant)\n",
    "B_class=np.array([X[i] for i in range(len(y)) if y[i]==1])#Dữ liệu của nhóm Lành tính (benign)\n",
    "print(\"Số ác tính: \",len(M_class),\". Số lành tính: \",len(B_class)) #Số lượng các phần tử của hai nhóm\n",
    "\n",
    "plt.xlabel(\"Bán kính\")\n",
    "plt.ylabel(\"Độ lõm\")\n",
    "plt.scatter(M_class[:,0],M_class[:,1],color='red')\n",
    "plt.scatter(B_class[:,0],B_class[:,1],color='blue')\n"
   ]
  },
  {
   "cell_type": "markdown",
   "metadata": {},
   "source": [
    "### Tạo hàm xấp xỉ dữ liệu đã biết với phương pháp hồi quy logistic"
   ]
  },
  {
   "cell_type": "markdown",
   "metadata": {},
   "source": [
    "Nhìn trên biểu đồ, ta có thể  thấy hai nhóm có sự tách biệt rõ ràng về hai chỉ số. Mô hình Hồi quy Logistic có dạng `y=F(X)` cần được huấn luyện với dữ liệu trên. Với `X` thuộc nhóm `Lành tính`, `y` tiến gần về  `1` và `y` tiến về `0` trong trường hợp `Ác tính` . Thật may, với `sklearn`, chúng ta có thể làm được điều đó chỉ với một vài dòng code. "
   ]
  },
  {
   "cell_type": "markdown",
   "metadata": {},
   "source": [
    "Đầu tiên, ta khai báo một mô hình `Hồi quy logistic` từ `sklearn`"
   ]
  },
  {
   "cell_type": "code",
   "execution_count": 3,
   "metadata": {},
   "outputs": [],
   "source": [
    "logreg = LogisticRegression()"
   ]
  },
  {
   "cell_type": "markdown",
   "metadata": {},
   "source": [
    "Tiếp theo, ta cung cấp dữ liệu đã biết để huấn luyện mô hình bằng phương thức `fit()` ."
   ]
  },
  {
   "cell_type": "code",
   "execution_count": 4,
   "metadata": {},
   "outputs": [
    {
     "name": "stderr",
     "output_type": "stream",
     "text": [
      "/home/thanhnh/.conda/envs/py36/lib/python3.6/site-packages/sklearn/linear_model/logistic.py:433: FutureWarning: Default solver will be changed to 'lbfgs' in 0.22. Specify a solver to silence this warning.\n",
      "  FutureWarning)\n"
     ]
    },
    {
     "data": {
      "text/plain": [
       "LogisticRegression(C=1.0, class_weight=None, dual=False, fit_intercept=True,\n",
       "          intercept_scaling=1, max_iter=100, multi_class='warn',\n",
       "          n_jobs=None, penalty='l2', random_state=None, solver='warn',\n",
       "          tol=0.0001, verbose=0, warm_start=False)"
      ]
     },
     "execution_count": 4,
     "metadata": {},
     "output_type": "execute_result"
    }
   ],
   "source": [
    "logreg.fit(X, y)"
   ]
  },
  {
   "cell_type": "markdown",
   "metadata": {},
   "source": [
    "Vậy là chúng ta đã có mô hình xấp xỉ tốt nhất với dữ liệu đã cho. Giờ ta sẽ biểu diễn khả năng dự đoán của mô hình thông qua biểu đồ:"
   ]
  },
  {
   "cell_type": "code",
   "execution_count": 5,
   "metadata": {},
   "outputs": [
    {
     "data": {
      "text/plain": [
       "<matplotlib.collections.PathCollection at 0x7fe4c17974a8>"
      ]
     },
     "execution_count": 5,
     "metadata": {},
     "output_type": "execute_result"
    },
    {
     "data": {
      "image/png": "[encoded data removed]",
      "text/plain": [
       "<Figure size 432x288 with 1 Axes>"
      ]
     },
     "metadata": {
      "needs_background": "light"
     },
     "output_type": "display_data"
    }
   ],
   "source": [
    "plt.xlabel(\"Bán kính\")\n",
    "plt.ylabel(\"Độ lõm\")\n",
    "y_pred=logreg.predict(X)\n",
    "M_class_pred=np.array([X[i] for i in range(len(y)) if y_pred[i]==0])#Dự đoán nhóm Ác tính (malignant)\n",
    "B_class_pred=np.array([X[i] for i in range(len(y)) if y_pred[i]==1])#Dự đoán của nhóm Lành tính (benign)\n",
    "plt.scatter(M_class_pred[:,0],M_class_pred[:,1],color='red')\n",
    "plt.scatter(B_class_pred[:,0],B_class_pred[:,1],color='blue')"
   ]
  },
  {
   "cell_type": "markdown",
   "metadata": {},
   "source": [
    "So sánh hai hình vẽ, ta có thể thấy mặc dù mô hình đã dự đoán tốt nhưng các điểm ở biên không hoàn toàn giống với dữ liệu. Ta tính độ chính xác của mô hình để xác nhận một lần nữa:"
   ]
  },
  {
   "cell_type": "code",
   "execution_count": 6,
   "metadata": {},
   "outputs": [
    {
     "data": {
      "text/plain": [
       "0.8892794376098418"
      ]
     },
     "execution_count": 6,
     "metadata": {},
     "output_type": "execute_result"
    }
   ],
   "source": [
    "accuracy_score(y, y_pred)"
   ]
  },
  {
   "cell_type": "markdown",
   "metadata": {},
   "source": [
    "Như vậy chỉ với 2 chỉ số, mô hình đã dự đoán sát so với dữ liệu là 88.93%"
   ]
  },
  {
   "cell_type": "markdown",
   "metadata": {},
   "source": [
    "### Sử dụng mô hình để chẩn đoán ung thư"
   ]
  },
  {
   "cell_type": "markdown",
   "metadata": {},
   "source": [
    "Tiếp theo, với mô hình đã có, ta sẽ tiến hành chẩn đoán ung thư với các chỉ số (R-Bán kính, C-Độ lõm):\n",
    "- R=16.5, C=0.078\n",
    "- R=15.2, C=0.241\n",
    "- R=13.9, C=0.013"
   ]
  },
  {
   "cell_type": "code",
   "execution_count": 13,
   "metadata": {},
   "outputs": [
    {
     "name": "stdout",
     "output_type": "stream",
     "text": [
      "Bệnh nhân có chỉ số  (Bán kính, Độ lõm nhân tế bào) là (16.5, 0.078) có kết quả ác tính với ung thư\n",
      "Bệnh nhân có chỉ số  (Bán kính, Độ lõm nhân tế bào) là (15.2, 0.241) có kết quả ác tính với ung thư\n",
      "Bệnh nhân có chỉ số  (Bán kính, Độ lõm nhân tế bào) là (13.9, 0.013) có kết quả lành tính với ung thư\n"
     ]
    }
   ],
   "source": [
    "need_prediction=[[16.5,0.078],[15.2,0.241],[13.9,0.013]]\n",
    "pred=logreg.predict(need_prediction)\n",
    "value={0:\"ác tính\",1:\"lành tính\"}\n",
    "for i,element in enumerate(need_prediction):\n",
    "    print(f\"Bệnh nhân có chỉ số  (Bán kính, Độ lõm nhân tế bào) là ({element[0]:.1f}, {element[1]:.3f}) có kết quả {value[pred[i]] :s} với ung thư\")"
   ]
  }
 ],
 "metadata": {
  "kernelspec": {
   "display_name": "Python 3",
   "language": "python",
   "name": "python3"
  },
  "language_info": {
   "codemirror_mode": {
    "name": "ipython",
    "version": 3
   },
   "file_extension": ".py",
   "mimetype": "text/x-python",
   "name": "python",
   "nbconvert_exporter": "python",
   "pygments_lexer": "ipython3",
   "version": "3.6.8"
  }
 },
 "nbformat": 4,
 "nbformat_minor": 1
}
